{
 "cells": [
  {
   "cell_type": "code",
   "execution_count": null,
   "metadata": {},
   "outputs": [
    {
     "name": "stderr",
     "output_type": "stream",
     "text": [
      "DEBUG:sentinelloader:2019-01-06 00:00:00\n",
      "INFO:sentinelloader:Getting contents. band=TCI, resolution=60m, date=2019-01-06\n",
      "INFO:sentinelloader:Querying API for candidate tiles\n",
      "DEBUG:sentinelloader:Querying remote API\n",
      "DEBUG:sentinelsat.SentinelAPI:Running query: order_by=None, limit=None, offset=0, query=beginPosition:[2019-01-01T00:00:00Z TO 2019-01-11T00:00:00Z] cloudcoverpercentage:[0 TO 100] platformname:Sentinel-2 producttype:S2MSI2A footprint:\"Intersects(POLYGON ((-47.873796 -16.044801, -47.933796 -16.044801, -47.933796 -15.924801, -47.873796 -15.924801, -47.873796 -16.044801)))\"\n",
      "DEBUG:sentinelsat.SentinelAPI:Sub-query: offset=0, limit=None\n",
      "DEBUG:urllib3.connectionpool:Starting new HTTPS connection (1): scihub.copernicus.eu:443\n"
     ]
    }
   ],
   "source": [
    "%matplotlib inline\n",
    "from sentinelloader import SentinelLoader\n",
    "import matplotlib.pyplot as plt\n",
    "from osgeo import gdal\n",
    "import os\n",
    "import logging\n",
    "logging.basicConfig(level=logging.DEBUG)\n",
    "\n",
    "sl = SentinelLoader('/notebooks/data/output/sentinelcache', os.environ['COPERNICUS_USER'],\n",
    "                                  os.environ['COPERNICUS_PASSWORD'], apiUrl='https://scihub.copernicus.eu/apihub/', showProgressbars=True)\n",
    "\n",
    "# area = [(-51.15, -14),(-51.8,-14),(-51.8,-14.25),(-51.15,-14.25),(-51.15,-14)]# area = [(-51.15, -14),(-51.8,-14),(-51.8,-14.25),(-51.15,-14.25),(-51.15,-14)]\n",
    "area=[(-47.873796,-16.044801),(-47.933796,-16.044801),(-47.933796,-15.924801),(-47.873796,-15.924801)]\n",
    "# area = [(-51.15, -14),(-52.1,-14),(-52.1,-14.25),(-51.15,-14.25),(-51.15,-14)]# area = [(-51.15, -14),(-51.8,-14),(-51.8,-14.25),(-51.15,-14.25),(-51.15,-14)]\n",
    "# area = [(-44.8, -15),(-46.2,-15),(-46.2,-15.2),(-44.8,-15.2)]# area = [(-51.15, -14),(-51.8,-14),(-51.8,-14.25),(-51.15,-14.25),(-51.15,-14)]\n",
    "# area = [(-50.45, -15.25),(-50.65, -15.25),(-50.65, -15.45),(-50.65, -15.45),(-49.5, -16.5)]\n",
    "# area = [(-44.8, -15),(-45.3,-15),(-45.3,-15.2),(-44.8,-15.2)]# area = [(-51.15, -14),(-51.8,-14),(-51.8,-14.25),(-51.15,-14.25),(-51.15,-14)]\n",
    "# geoTiffs = sl.getProductBandTiles(area, 'TCI', '60m', dateReference='2019-01-01', dateToleranceDays=20, cloudCoverage=(0,40))\n",
    "# geoTiff = sl.cropRegion(area, geoTiffs)\n",
    "# ds = gdal.Open(geoTiff).ReadAsArray()\n",
    "# plt.figure(figsize=(44,44))\n",
    "# plt.imshow(ds[0])\n",
    "# plt.show()\n",
    "# os.remove(geoTiff)\n",
    "\n",
    "geoTiffs = sl.getRegionHistory(area, 'TCI', '60m', '2019-01-06', '2019-01-30', daysStep=5, dateToleranceDays=5)\n",
    "for geoTiff in geoTiffs:\n",
    "    ds = gdal.Open(geoTiff).ReadAsArray()\n",
    "    plt.figure(figsize=(5,5))\n",
    "    plt.imshow(ds[0])\n",
    "    plt.show()\n",
    "    os.remove(geoTiff)\n",
    "\n",
    "# img = plt.imread(geoTiff)\n",
    "# plt.imshow(img[:, :, 0], cmap=plt.cm.coolwarm)\n",
    "# sl.getContents(area, 'TCI', '10m', dateReference='2019-01-01', dateToleranceDays=20, cloudCoverage=(0,40), cloudless=False, cloudlessDays=20)\n",
    "# area = [(-44.8, -15),(-45.1,-15),(-45.1,-15.2),(-44.8,-15.2)]# area = [(-51.15, -14),(-51.8,-14),(-51.8,-14.25),(-51.15,-14.25),(-51.15,-14)]\n",
    "# sl.getContents(area, 'TCI', '60m', dateReference='now', dateToleranceDays=20, cloudCoverage=(0,40), cloudless=False, cloudlessDays=20)\n"
   ]
  },
  {
   "cell_type": "code",
   "execution_count": null,
   "metadata": {},
   "outputs": [],
   "source": []
  }
 ],
 "metadata": {
  "kernelspec": {
   "display_name": "Python 3",
   "language": "python",
   "name": "python3"
  },
  "language_info": {
   "codemirror_mode": {
    "name": "ipython",
    "version": 3
   },
   "file_extension": ".py",
   "mimetype": "text/x-python",
   "name": "python",
   "nbconvert_exporter": "python",
   "pygments_lexer": "ipython3",
   "version": "3.5.2"
  }
 },
 "nbformat": 4,
 "nbformat_minor": 2
}
